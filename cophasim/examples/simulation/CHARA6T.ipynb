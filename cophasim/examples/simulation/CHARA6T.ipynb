{
 "cells": [
  {
   "cell_type": "markdown",
   "id": "de3c0256",
   "metadata": {},
   "source": [
    "# Example of a close loop using the SPICA-FT algorithm"
   ]
  },
  {
   "cell_type": "code",
   "execution_count": 1,
   "id": "70ca52ad",
   "metadata": {},
   "outputs": [],
   "source": [
    "import os\n",
    "import numpy as np\n",
    "import matplotlib.pyplot as plt\n",
    "\n",
    "# skeleton is the main module, contains for example the function for running the loop.\n",
    "import cophasim.skeleton as sk \n",
    "\n",
    "# coh_tools contains useful tools, for generating the spectral sample for example.\n",
    "import cophasim.coh_tools as ct \n",
    "\n",
    "# config contains all the parameters describing the interferometer (number of telescopes, observed object, \n",
    "# spectral sampling, etc..) and setup (Fringe-Sensor and Fringe-Tracker).\n",
    "from cophasim import config \n",
    "\n",
    "from cophasim.tol_colors import tol_cset # Colorblind-friendly and high-contrast library for my plots\n",
    "colors=tol_cset('muted')\n",
    "\n",
    "dataPack = 'C:/Users/cpannetier/Documents/Python_packages/cophaSIM/cophasim/data/'\n",
    "dataSim = 'C:/Users/cpannetier/Documents/These/FringeTracking/Python/Simulations/data/'\n",
    "\n",
    "plt.close('all')"
   ]
  },
  {
   "cell_type": "markdown",
   "id": "9fc9be3b",
   "metadata": {},
   "source": [
    "1. __Generation of the spectral sampling.__\n",
    "\n",
    "We define it by the two extreme wavelength and we can choose the number of spectral channel (MW) or the spectral resolution (R). "
   ]
  },
  {
   "cell_type": "code",
   "execution_count": 2,
   "id": "d1e9e62c",
   "metadata": {},
   "outputs": [
    {
     "data": {
      "image/png": "[encoded data removed]",
      "text/plain": [
       "<Figure size 640x480 with 2 Axes>"
      ]
     },
     "metadata": {},
     "output_type": "display_data"
    }
   ],
   "source": [
    "lmbda1 = 1.45\n",
    "lmbda2 = 1.75\n",
    "# MW=10\n",
    "R = 25\n",
    "OW=20\n",
    "spectra, spectraM = ct.generate_spectra(lmbda1, lmbda2, OW=OW, R=R, mode='linear_sig')\n",
    "\n",
    "fig, (ax1, ax2) = plt.subplots(ncols=2)\n",
    "ax1.scatter(np.arange(len(spectra)), spectra, color='k', label='Micro', s=3)\n",
    "ax2.scatter(np.arange(len(spectraM)), spectraM, color='k', label='Macro', s=20)\n",
    "ax2.yaxis.tick_right()"
   ]
  },
  {
   "cell_type": "markdown",
   "id": "c9f0c611",
   "metadata": {},
   "source": [
    "A little problem of continuity in the micro sampling that I just noticed. Need to be fixed but no major consequence."
   ]
  },
  {
   "cell_type": "markdown",
   "id": "1828d1cd",
   "metadata": {},
   "source": [
    "2. __Define the fringe-sensor used__"
   ]
  },
  {
   "cell_type": "code",
   "execution_count": 3,
   "id": "c095fe5d",
   "metadata": {},
   "outputs": [
    {
     "name": "stdout",
     "output_type": "stream",
     "text": [
      "Camera C-RED ONE set to gain 150 and noises parameters as follow (from Lanthermann 2019 and its thesis):\n",
      "              - Readout noise: 0.5 e/pix\n",
      "              - Excess Noise Factor: 1.47\n",
      "              - Optics transmission: 0.81\n",
      "              - Quantum efficiency: 0.7\n",
      "              - System gain: 0.49 ADU/e\n",
      "              - Avalanche gain: 150\n",
      "              - Total gain: 73.5 ADU/e\n",
      "Number of measured bases: 15\n",
      "Number of closures phases: 20\n"
     ]
    }
   ],
   "source": [
    "from cophasim.ALTERNATIVE_FS import PAIRWISE\n",
    "InterfName = \"CHARA_6T\"\n",
    "InterferometerFile = dataPack+f'interferometers/{InterfName}.fits'\n",
    "\n",
    "%matplotlib qt\n",
    "PAIRWISE(init=True,spectra=spectra, spectraM=spectraM, description=\"PW6-15-10\",\n",
    "         modulation='ABCD',ArrayDetails=InterferometerFile)#,display=True,savedir=f'./{InterfName}/',ext=['png','pdf'])\n",
    "\n",
    "NINmes = config.FS['NINmes']; NCmes = config.FS['NCmes']\n",
    "config.FS['ron'] = 0.5\n",
    "print(f\"Number of measured bases: {NINmes}\")\n",
    "print(f\"Number of closures phases: {NCmes}\")"
   ]
  },
  {
   "cell_type": "markdown",
   "id": "fda353a9",
   "metadata": {},
   "source": [
    "plt.figure(); plt.imshow(config.FS['Piston2OPD_r']); plt.show()"
   ]
  },
  {
   "cell_type": "markdown",
   "id": "7eb5494e",
   "metadata": {},
   "source": [
    "The default parameters of the chosen fringe-sensor have been saved in the config module."
   ]
  },
  {
   "cell_type": "markdown",
   "id": "0119ea21",
   "metadata": {},
   "source": [
    "3. __Define the interferometer and simulation parameters__"
   ]
  },
  {
   "cell_type": "code",
   "execution_count": 4,
   "id": "227835c3",
   "metadata": {},
   "outputs": [],
   "source": [
    "\"\"\" Initialise the simulation configurations \"\"\"\n",
    "\n",
    "InterfName = \"CHARA_6T\"\n",
    "ObservationFile = dataSim+f'observations/{InterfName}/SimpleStar_mag2Diam1.fits'\n",
    "ObservationFile = dataSim+f'observations/{InterfName}/Unresolved/magH0_0.fits'\n",
    "Disturbancedir=dataSim+f'disturbances/'\n",
    "DisturbanceFile = Disturbancedir+'TestMROI/step1_5microns.fits'\n",
    "DisturbanceFile = Disturbancedir+f'for_optim/CHARA_6T/good/sample0.fits'\n",
    "\n",
    "# Configuration parameters\n",
    "NT = 500                # Duration of the simulation [frames]\n",
    "dt = 2                  # Time of a frame [ms]\n",
    "latencytime = 2*dt      # Latency of the system\n",
    "TELref = 1              # If 0, all telescope move. If ia!=0, Tel ia static\n",
    "\n",
    "# Initialize global coh variable\n",
    "sk.initialize(InterferometerFile, ObservationFile, DisturbanceFile, NT=NT,\n",
    "              spectra=spectra, spectraM=spectraM,\n",
    "              TELref=TELref, dt = dt,\n",
    "              starttracking=0,latencytime=latencytime, piston_average=1)\n",
    "\n",
    "# Add noise\n",
    "config.noise = True"
   ]
  },
  {
   "cell_type": "markdown",
   "id": "e3c39e81",
   "metadata": {},
   "source": [
    "The config module contains the necessary information defining the inteferometer and the simulation:"
   ]
  },
  {
   "cell_type": "code",
   "execution_count": 5,
   "id": "157d3cdd",
   "metadata": {},
   "outputs": [
    {
     "name": "stdout",
     "output_type": "stream",
     "text": [
      "For example:\n",
      "    - Observation File: .../observations/CHARA_6T/Unresolved/magH0_0.fits\n",
      "    - Duration of the simulation: 500 frames ; 1000 ms\n",
      "    - Latency: 4 ms \n",
      "    - Noises: True ; RON=2e\n"
     ]
    }
   ],
   "source": [
    "print(f\"For example:\\n\\\n",
    "    - Observation File: .../{'/'.join(config.ObservationFile.split('/')[-4:])}\\n\\\n",
    "    - Duration of the simulation: {config.NT} frames ; {config.NT*config.dt} ms\\n\\\n",
    "    - Latency: {latencytime} ms \\n\\\n",
    "    - Noises: {config.noise} ; RON={config.ron}e\")"
   ]
  },
  {
   "cell_type": "markdown",
   "id": "f41c4ebd",
   "metadata": {},
   "source": [
    "4. __Define the Fringe-Tracker__"
   ]
  },
  {
   "cell_type": "code",
   "execution_count": 6,
   "id": "157dadba",
   "metadata": {},
   "outputs": [],
   "source": [
    "#NINmes=45\n",
    "# Basic parameters: Gains and integration time of the GD estimator\n",
    "GainGD = 0.04 ; GainPD = 0.6\n",
    "\n",
    "# GD control loop definition\n",
    "Ngd = 40 ; Ncross=1\n",
    "roundGD='round' ; Threshold = True\n",
    "\n",
    "# Search command definition\n",
    "search=False; SMdelay = .6 ; Sweep0=20 ; Sweep30s=10 ; Slope=.100   # Defines the u_saw function\n",
    "#Vfactors = np.array([-24.9, -23.9, -18.9, -14.9,  -1.9,   1.1,   9.1,  16.1,  28.1, 30.1])\n",
    "\n",
    "# Closure phase estimation\n",
    "CPref=True ; Ncp=300 ; # Impact on the Closure Phase estimation\n",
    "\n",
    "# Weighting with the baselines SNR\n",
    "useWmatrices=True ; whichSNR='gd'\n",
    "\n",
    "# State-Machine thresholds\n",
    "ThresholdGD = np.ones(NINmes)*10 ; ThresholdPD = 1.5\n",
    "\n",
    "# Initialize the fringe tracker with the all the parameters above\n",
    "from cophasim.SPICA_FT import SPICAFT\n",
    "SPICAFT(init=True, Ngd=Ngd, GainPD=GainPD, GainGD=GainGD, roundGD=roundGD,\n",
    "        Ncross=Ncross,whichSNR=whichSNR,stdCP=0.2*np.pi,\n",
    "        search=search,SMdelay=SMdelay,Sweep0=Sweep0,Sweep30s=Sweep30s,Slope=Slope,#Vfactors=Vfactors,\n",
    "        CPref=CPref,Ncp=Ncp,ThresholdGD=ThresholdGD,ThresholdPD=ThresholdPD,\n",
    "        Threshold=Threshold,useWmatrices=useWmatrices)"
   ]
  },
  {
   "cell_type": "markdown",
   "id": "08fd838e",
   "metadata": {},
   "source": [
    "5. __Run a scan of the coherence envelop to evaluate the signal-to-noise regim__ and set the detection threshold of the fringes."
   ]
  },
  {
   "cell_type": "code",
   "execution_count": 7,
   "id": "c7251685",
   "metadata": {
    "scrolled": true
   },
   "outputs": [],
   "source": [
    "ScanEnvelop=False\n",
    "if ScanEnvelop:\n",
    "    from cophasim.SPICA_FT import SetThreshold\n",
    "    ChosenThresholdGD = SetThreshold(TypeDisturbance=\"CophasedThenForeground\",\n",
    "                                     manual=False, scan=False,verbose=True,display=True)"
   ]
  },
  {
   "cell_type": "markdown",
   "id": "69b67066",
   "metadata": {},
   "source": [
    "6. __Observe the results__"
   ]
  },
  {
   "cell_type": "code",
   "execution_count": null,
   "id": "e4f8554a",
   "metadata": {},
   "outputs": [
    {
     "name": "stdout",
     "output_type": "stream",
     "text": [
      "Reloading outputs for reinitialising the observables.\n",
      "We subtract to the piston of each telescope its first value\n",
      "Processing simulation ...\n"
     ]
    }
   ],
   "source": [
    "sk.loop(verbose=True)"
   ]
  },
  {
   "cell_type": "code",
   "execution_count": null,
   "id": "cbc20a54",
   "metadata": {},
   "outputs": [],
   "source": [
    "sk.display(topAxe='dispersion')"
   ]
  },
  {
   "cell_type": "code",
   "execution_count": null,
   "id": "85771d3d",
   "metadata": {},
   "outputs": [],
   "source": []
  }
 ],
 "metadata": {
  "kernelspec": {
   "display_name": "Python 3 (ipykernel)",
   "language": "python",
   "name": "python3"
  },
  "language_info": {
   "codemirror_mode": {
    "name": "ipython",
    "version": 3
   },
   "file_extension": ".py",
   "mimetype": "text/x-python",
   "name": "python",
   "nbconvert_exporter": "python",
   "pygments_lexer": "ipython3",
   "version": "3.10.9"
  }
 },
 "nbformat": 4,
 "nbformat_minor": 5
}
