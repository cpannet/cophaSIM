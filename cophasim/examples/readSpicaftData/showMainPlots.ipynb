{
 "cells": [
  {
   "cell_type": "code",
   "execution_count": 1,
   "id": "38049aab",
   "metadata": {},
   "outputs": [],
   "source": [
    "import matplotlib.pyplot as plt\n",
    "from astropy.io import fits\n",
    "\n",
    "import numpy as np\n",
    "import os\n",
    "from cophasim import TrueTelemetries as TT\n",
    "from cophasim import tol_colors\n",
    "from cophasim import coh_tools as ct\n",
    "from cophasim import skeleton as sk\n",
    "from cophasim import config,outputs\n",
    "\n",
    "InterfArray = config.Interferometer()\n",
    "InterfArray.get_array(name='chara')\n",
    "\n",
    "cset = tol_colors.tol_cset(\"muted\")\n",
    "\n",
    "%matplotlib qt\n",
    "\n",
    "directory = os.getcwd()+\"/fileExample/\"\n",
    "filename = \"SPICAFT.TELEMETRY.2023-10-20T14-24-19.fits\"\n",
    "filepath = directory+filename"
   ]
  },
  {
   "cell_type": "markdown",
   "id": "78e993dc",
   "metadata": {},
   "source": [
    "### Optional part to show details of the fitsfile"
   ]
  },
  {
   "cell_type": "code",
   "execution_count": 4,
   "id": "e5cf0552",
   "metadata": {},
   "outputs": [
    {
     "name": "stdout",
     "output_type": "stream",
     "text": [
      "Filename: C:\\Users\\cpannetier\\Documents\\Python_packages\\cophaSIM\\cophasim\\examples\\readSpicaftData/fileExample/SPICAFT.TELEMETRY.2023-10-20T14-24-19.fits\n",
      "No.    Name      Ver    Type      Cards   Dimensions   Format\n",
      "  0  PRIMARY       1 PrimaryHDU      11   ()      \n",
      "  1  Telemetry     1 BinTableHDU    108   5679R x 33C   [1K, 15D, 6D, 15D, 15D, 15D, 15D, 15D, 10D, 10D, 15D, 15D, 15D, 2D, 6D, 6D, 15D, 15D, 15D, 15D, 6D, 15D, 6D, 6D, 6D, 6D, 6D, 2K, 2K, 5D, 1D, 15D, 6D]   \n"
     ]
    }
   ],
   "source": [
    "hduL = fits.open(filepath)\n",
    "\n",
    "\"\"\"\n",
    "General information on the structure of the file\n",
    "\"\"\"\n",
    "hduL.info()"
   ]
  },
  {
   "cell_type": "markdown",
   "id": "62e87b6d",
   "metadata": {},
   "source": [
    "### Mandatory step for loading fits data into outputs module\n",
    "The outputs module gather all telemetries. The next steps need these data into outputs module in order to process it.\n",
    "See outputs.py into cophasim package to have a detail of the outputs module and available data."
   ]
  },
  {
   "cell_type": "code",
   "execution_count": 5,
   "id": "6429438b",
   "metadata": {},
   "outputs": [],
   "source": [
    "TT.ReadFits(filepath) # Load some quantities into outputs module"
   ]
  },
  {
   "cell_type": "markdown",
   "id": "ebde3f90",
   "metadata": {},
   "source": [
    "### Display main data"
   ]
  },
  {
   "cell_type": "code",
   "execution_count": 6,
   "id": "a40f086f",
   "metadata": {},
   "outputs": [
    {
     "name": "stderr",
     "output_type": "stream",
     "text": [
      "C:\\Users\\cpannetier\\.conda\\envs\\cophasim\\lib\\site-packages\\cophasim\\display_module.py:1301: UserWarning: Data has no positive values, and therefore cannot be log-scaled.\n",
      "  axes[0].set_xscale('log') ; axes[0].set_yscale('log')\n",
      "C:\\Users\\cpannetier\\.conda\\envs\\cophasim\\lib\\site-packages\\cophasim\\skeleton.py:2657: UserWarning: Data has no positive values, and therefore cannot be log-scaled.\n",
      "  pdf.savefig(fig)\n"
     ]
    }
   ],
   "source": [
    "sk.display()"
   ]
  },
  {
   "cell_type": "markdown",
   "id": "cad4ea35",
   "metadata": {},
   "source": [
    "If you want to save the figures into \"figures\" directory:"
   ]
  },
  {
   "cell_type": "code",
   "execution_count": 7,
   "id": "528cc3f1",
   "metadata": {},
   "outputs": [
    {
     "name": "stderr",
     "output_type": "stream",
     "text": [
      "C:\\Users\\cpannetier\\.conda\\envs\\cophasim\\lib\\site-packages\\cophasim\\display_module.py:1301: UserWarning: Data has no positive values, and therefore cannot be log-scaled.\n",
      "  axes[0].set_xscale('log') ; axes[0].set_yscale('log')\n",
      "C:\\Users\\cpannetier\\.conda\\envs\\cophasim\\lib\\site-packages\\cophasim\\skeleton.py:2657: UserWarning: Data has no positive values, and therefore cannot be log-scaled.\n",
      "  pdf.savefig(fig)\n"
     ]
    }
   ],
   "source": [
    "sk.display(savedir='figures/',ext='jpg')"
   ]
  },
  {
   "cell_type": "markdown",
   "id": "3d23c52e",
   "metadata": {},
   "source": [
    "### Display data concerning only few telescopes"
   ]
  },
  {
   "cell_type": "code",
   "execution_count": null,
   "id": "c3241fe6",
   "metadata": {},
   "outputs": [],
   "source": [
    "infos = {\"details\":f\"{filename.split('/')[-1]}\",'telsToDisplay':['S1','S2']}\n",
    "timebonds = (0,-1)\n",
    "\n",
    "outputsData=['SquaredSnrGD','SquaredSnrPD'] # show the variables which point to \"SquaredSnrGD\" and \"SquaredSnrPD\" names in outputs module\n",
    "\n",
    "sk.display('gdPdCmd','gdCmdPis',timebonds=timebonds, outputsData=[], infos=infos)"
   ]
  },
  {
   "cell_type": "markdown",
   "id": "7c1793b0",
   "metadata": {},
   "source": [
    "### Display data concerning only few baselines"
   ]
  },
  {
   "cell_type": "code",
   "execution_count": 8,
   "id": "034c556b",
   "metadata": {},
   "outputs": [],
   "source": [
    "infos = {\"details\":f\"{filename.split('/')[-1]}\",'basesToDisplay':['S1S2','W1E2']}\n",
    "timebonds = (0,100) # show only the 100 first seconds of the sequence\n",
    "\n",
    "sk.display('gdPdEst','gdHist',timebonds=timebonds, outputsData=[], infos=infos) # Use gdPdEst and gdHist arguments to plot specific figures (see documentation)"
   ]
  },
  {
   "cell_type": "markdown",
   "id": "b722e7df",
   "metadata": {},
   "source": [
    "### Display documentation"
   ]
  },
  {
   "cell_type": "code",
   "execution_count": 9,
   "id": "a037bca7",
   "metadata": {},
   "outputs": [],
   "source": [
    "sk.display?"
   ]
  },
  {
   "cell_type": "code",
   "execution_count": 7,
   "id": "45824f4b",
   "metadata": {},
   "outputs": [
    {
     "name": "stdout",
     "output_type": "stream",
     "text": [
      "CommandODL plotted with piston-oriented display.\n"
     ]
    }
   ],
   "source": [
    "infos = {\"details\":f\"{filename.split('/')[-1][:5]}\"}\n",
    "timebonds = (0,-1)\n",
    "\n",
    "infos = {'details':'','telsToDisplay':['S2','W1','E2']}\n",
    "outputsData = ['CommandODL','OPDCommand']\n",
    "sk.display('perftable','gdPdCmd','gdPdCmdDiff','estFlux','gdHist',timebonds=timebonds, outputsData=outputsData, infos=infos)"
   ]
  },
  {
   "cell_type": "code",
   "execution_count": 19,
   "id": "9edadf54",
   "metadata": {},
   "outputs": [
    {
     "name": "stderr",
     "output_type": "stream",
     "text": [
      "C:\\Users\\cpannetier\\.conda\\envs\\cophasim\\lib\\site-packages\\cophasim\\skeleton.py:2941: UserWarning: Attempting to set identical low and high ylims makes transformation singular; automatically expanding.\n",
      "  plt.ylim([np.min(observable),np.max(observable)])\n",
      "C:\\Users\\cpannetier\\.conda\\envs\\cophasim\\lib\\site-packages\\matplotlib\\text.py:1279: FutureWarning: elementwise comparison failed; returning scalar instead, but in the future will perform elementwise comparison\n",
      "  if s != self._text:\n"
     ]
    },
    {
     "ename": "KeyboardInterrupt",
     "evalue": "",
     "output_type": "error",
     "traceback": [
      "\u001b[1;31m---------------------------------------------------------------------------\u001b[0m",
      "\u001b[1;31mKeyboardInterrupt\u001b[0m                         Traceback (most recent call last)",
      "Cell \u001b[1;32mIn[19], line 2\u001b[0m\n\u001b[0;32m      1\u001b[0m timeBonds \u001b[38;5;241m=\u001b[39m (\u001b[38;5;241m0\u001b[39m,\u001b[38;5;241m-\u001b[39m\u001b[38;5;241m1\u001b[39m) ; DIT\u001b[38;5;241m=\u001b[39m\u001b[38;5;241m1\u001b[39m ; SpectraForScience \u001b[38;5;241m=\u001b[39m \u001b[38;5;241m0.75\u001b[39m\u001b[38;5;66;03m#np.arange(0.6,0.9,100)\u001b[39;00m\n\u001b[1;32m----> 2\u001b[0m \u001b[43msk\u001b[49m\u001b[38;5;241;43m.\u001b[39;49m\u001b[43mShowPerformance\u001b[49m\u001b[43m(\u001b[49m\u001b[43mtimeBonds\u001b[49m\u001b[43m,\u001b[49m\u001b[43m \u001b[49m\u001b[43mSpectraForScience\u001b[49m\u001b[43m,\u001b[49m\u001b[43mDIT\u001b[49m\u001b[43m)\u001b[49m\n",
      "File \u001b[1;32m~\\.conda\\envs\\cophasim\\lib\\site-packages\\cophasim\\skeleton.py:2948\u001b[0m, in \u001b[0;36mShowPerformance\u001b[1;34m(TimeBonds, SpectraForScience, DIT, FileInterferometer, CoherentFluxObject, SNR_SI, R, p, magSI, display, get, verbose)\u001b[0m\n\u001b[0;32m   2946\u001b[0m plt\u001b[38;5;241m.\u001b[39mylabel(\u001b[38;5;124m'\u001b[39m\u001b[38;5;124mVariance [µm]\u001b[39m\u001b[38;5;124m'\u001b[39m)\n\u001b[0;32m   2947\u001b[0m plt\u001b[38;5;241m.\u001b[39mgrid()\n\u001b[1;32m-> 2948\u001b[0m \u001b[43mplt\u001b[49m\u001b[38;5;241;43m.\u001b[39;49m\u001b[43mshow\u001b[49m\u001b[43m(\u001b[49m\u001b[43m)\u001b[49m\n\u001b[0;32m   2949\u001b[0m config\u001b[38;5;241m.\u001b[39mnewfig \u001b[38;5;241m+\u001b[39m\u001b[38;5;241m=\u001b[39m \u001b[38;5;241m1\u001b[39m\n\u001b[0;32m   2951\u001b[0m observable \u001b[38;5;241m=\u001b[39m outputs\u001b[38;5;241m.\u001b[39mVarPDEst\u001b[38;5;241m*\u001b[39m(config\u001b[38;5;241m.\u001b[39mwlOfTrack\u001b[38;5;241m/\u001b[39m\u001b[38;5;241m2\u001b[39m\u001b[38;5;241m/\u001b[39mnp\u001b[38;5;241m.\u001b[39mpi)\n",
      "File \u001b[1;32m~\\.conda\\envs\\cophasim\\lib\\site-packages\\matplotlib\\pyplot.py:445\u001b[0m, in \u001b[0;36mshow\u001b[1;34m(*args, **kwargs)\u001b[0m\n\u001b[0;32m    401\u001b[0m \u001b[38;5;124;03m\"\"\"\u001b[39;00m\n\u001b[0;32m    402\u001b[0m \u001b[38;5;124;03mDisplay all open figures.\u001b[39;00m\n\u001b[0;32m    403\u001b[0m \n\u001b[1;32m   (...)\u001b[0m\n\u001b[0;32m    442\u001b[0m \u001b[38;5;124;03mexplicitly there.\u001b[39;00m\n\u001b[0;32m    443\u001b[0m \u001b[38;5;124;03m\"\"\"\u001b[39;00m\n\u001b[0;32m    444\u001b[0m _warn_if_gui_out_of_main_thread()\n\u001b[1;32m--> 445\u001b[0m \u001b[38;5;28;01mreturn\u001b[39;00m _get_backend_mod()\u001b[38;5;241m.\u001b[39mshow(\u001b[38;5;241m*\u001b[39margs, \u001b[38;5;241m*\u001b[39m\u001b[38;5;241m*\u001b[39mkwargs)\n",
      "File \u001b[1;32m~\\.conda\\envs\\cophasim\\lib\\site-packages\\matplotlib\\backend_bases.py:3616\u001b[0m, in \u001b[0;36m_Backend.show\u001b[1;34m(cls, block)\u001b[0m\n\u001b[0;32m   3614\u001b[0m     block \u001b[38;5;241m=\u001b[39m \u001b[38;5;129;01mnot\u001b[39;00m ipython_pylab \u001b[38;5;129;01mand\u001b[39;00m \u001b[38;5;129;01mnot\u001b[39;00m is_interactive()\n\u001b[0;32m   3615\u001b[0m \u001b[38;5;28;01mif\u001b[39;00m block:\n\u001b[1;32m-> 3616\u001b[0m     \u001b[38;5;28;43mcls\u001b[39;49m\u001b[38;5;241;43m.\u001b[39;49m\u001b[43mmainloop\u001b[49m\u001b[43m(\u001b[49m\u001b[43m)\u001b[49m\n",
      "File \u001b[1;32m~\\.conda\\envs\\cophasim\\lib\\site-packages\\matplotlib\\backends\\backend_qt.py:604\u001b[0m, in \u001b[0;36mFigureManagerQT.start_main_loop\u001b[1;34m(cls)\u001b[0m\n\u001b[0;32m    602\u001b[0m qapp \u001b[38;5;241m=\u001b[39m QtWidgets\u001b[38;5;241m.\u001b[39mQApplication\u001b[38;5;241m.\u001b[39minstance()\n\u001b[0;32m    603\u001b[0m \u001b[38;5;28;01mif\u001b[39;00m qapp:\n\u001b[1;32m--> 604\u001b[0m     \u001b[38;5;28;01mwith\u001b[39;00m _maybe_allow_interrupt(qapp):\n\u001b[0;32m    605\u001b[0m         qt_compat\u001b[38;5;241m.\u001b[39m_exec(qapp)\n",
      "File \u001b[1;32m~\\.conda\\envs\\cophasim\\lib\\contextlib.py:142\u001b[0m, in \u001b[0;36m_GeneratorContextManager.__exit__\u001b[1;34m(self, typ, value, traceback)\u001b[0m\n\u001b[0;32m    140\u001b[0m \u001b[38;5;28;01mif\u001b[39;00m typ \u001b[38;5;129;01mis\u001b[39;00m \u001b[38;5;28;01mNone\u001b[39;00m:\n\u001b[0;32m    141\u001b[0m     \u001b[38;5;28;01mtry\u001b[39;00m:\n\u001b[1;32m--> 142\u001b[0m         \u001b[38;5;28;43mnext\u001b[39;49m\u001b[43m(\u001b[49m\u001b[38;5;28;43mself\u001b[39;49m\u001b[38;5;241;43m.\u001b[39;49m\u001b[43mgen\u001b[49m\u001b[43m)\u001b[49m\n\u001b[0;32m    143\u001b[0m     \u001b[38;5;28;01mexcept\u001b[39;00m \u001b[38;5;167;01mStopIteration\u001b[39;00m:\n\u001b[0;32m    144\u001b[0m         \u001b[38;5;28;01mreturn\u001b[39;00m \u001b[38;5;28;01mFalse\u001b[39;00m\n",
      "File \u001b[1;32m~\\.conda\\envs\\cophasim\\lib\\site-packages\\matplotlib\\backends\\qt_compat.py:245\u001b[0m, in \u001b[0;36m_maybe_allow_interrupt\u001b[1;34m(qapp)\u001b[0m\n\u001b[0;32m    243\u001b[0m signal\u001b[38;5;241m.\u001b[39msignal(signal\u001b[38;5;241m.\u001b[39mSIGINT, old_sigint_handler)\n\u001b[0;32m    244\u001b[0m \u001b[38;5;28;01mif\u001b[39;00m handler_args \u001b[38;5;129;01mis\u001b[39;00m \u001b[38;5;129;01mnot\u001b[39;00m \u001b[38;5;28;01mNone\u001b[39;00m:\n\u001b[1;32m--> 245\u001b[0m     \u001b[43mold_sigint_handler\u001b[49m\u001b[43m(\u001b[49m\u001b[38;5;241;43m*\u001b[39;49m\u001b[43mhandler_args\u001b[49m\u001b[43m)\u001b[49m\n",
      "\u001b[1;31mKeyboardInterrupt\u001b[0m: "
     ]
    }
   ],
   "source": [
    "timeBonds = (0,-1) ; DIT=1 ; SpectraForScience = 0.75#np.arange(0.6,0.9,100)\n",
    "sk.ShowPerformance(timeBonds, SpectraForScience,DIT)"
   ]
  },
  {
   "cell_type": "code",
   "execution_count": null,
   "id": "4cc77d76",
   "metadata": {},
   "outputs": [],
   "source": [
    "from cophasim import skeleton as sk\n",
    "from cophasim import config,outputs\n",
    "\n",
    "InterfArray = config.Interferometer()\n",
    "InterfArray.get_array(name='chara')\n",
    "\n",
    "infos = {\"details\":f\"{filename.split('/')[-1][:5]}\"}\n",
    "timebonds = (0,-1)\n",
    "\n",
    "sk.display('perftable','gdPdCmd','estFlux',timebonds=timebonds, outputsData=[], infos=infos, withsnr=True,UsedTelemetries='true')\n",
    "#sk.display('gdHist',timebonds=timebonds, outputsData=[], infos=infos, withsnr=True,UsedTelemetries='true',\n",
    "#           savedir='figures/',ext='jpg')"
   ]
  },
  {
   "cell_type": "code",
   "execution_count": 6,
   "id": "2b89eb92",
   "metadata": {},
   "outputs": [],
   "source": [
    "infos = {\"details\":\"\",'TelsToDisplay':['S1','W1','S2']}\n",
    "sk.display('perfcp',timebonds=timebonds, outputsData=[], infos=infos, withsnr=True,UsedTelemetries='true')"
   ]
  },
  {
   "cell_type": "code",
   "execution_count": 6,
   "id": "b12b80c2",
   "metadata": {},
   "outputs": [],
   "source": [
    "infos = {\"details\":\"\"}#,'TelsToDisplay':['S1','W1','S2']}\n",
    "sk.display('perftable','gdPdCmd','gdCmdPis','perfcp',timebonds=timebonds, outputsData=['PistonGDcorr'], infos=infos, withsnr=True,UsedTelemetries='true')"
   ]
  },
  {
   "cell_type": "code",
   "execution_count": 8,
   "id": "8f525a5a",
   "metadata": {},
   "outputs": [
    {
     "name": "stderr",
     "output_type": "stream",
     "text": [
      "C:\\Users\\cpannetier\\.conda\\envs\\cophasim\\lib\\site-packages\\cophasim\\coh_tools.py:2788: UserWarning: Attempting to set identical low and high ylims makes transformation singular; automatically expanding.\n",
      "  ax.set_ylim([ymin,ymax])\n"
     ]
    }
   ],
   "source": [
    "timebonds = (0,-1)\n",
    "infos = {\"details\":\"\"}#,'TelsToDisplay':['E1','S1','E2','S2']}\n",
    "outputsData=['SquaredSnrGD','PistonGDcorr']#'SquaredSnrGD','SquaredSnrPD','SquaredSNRMovingAveragePD']\n",
    "#sk.display('perftable','perftableres2',outputsData=outputsData, infos=infos, withsnr=True,UsedTelemetries='true')\n",
    "\n",
    "sk.display('estFlux','snr','perftable','perftableres2','pdCmdPis','gdCmdPis','gdCmd',timebonds=timebonds, outputsData=outputsData, infos=infos, withsnr=True,UsedTelemetries='true')"
   ]
  },
  {
   "cell_type": "code",
   "execution_count": 4,
   "id": "414ca0f9",
   "metadata": {},
   "outputs": [],
   "source": [
    "infos = {\"details\":\"\"}#,'E1S2','E1W1']}\n",
    "outputsData=['PistonGDcorr']\n",
    "sk.display('gdCmdPis',timebonds=timebonds, outputsData=outputsData, infos=infos, withsnr=True,UsedTelemetries='true')"
   ]
  },
  {
   "cell_type": "code",
   "execution_count": 5,
   "id": "17929972",
   "metadata": {},
   "outputs": [],
   "source": [
    "infos = {\"details\":\"\",'TelsToDisplay':['S1','E2']}#,'E1S2','E1W1']}\n",
    "outputsData=['SquaredSnrGD','PistonGDcorr','SquaredSnrGD','SquaredSnrPD']#,'SquaredSNRMovingAveragePD']\n",
    "#sk.display('perftable','perftableres2',outputsData=outputsData, infos=infos, withsnr=True,UsedTelemetries='true')\n",
    "\n",
    "sk.display('perftable','snr','gdPdCmd','pdCmdPis',timebonds=timebonds, outputsData=outputsData, infos=infos, withsnr=True,UsedTelemetries='true')"
   ]
  },
  {
   "cell_type": "code",
   "execution_count": 18,
   "id": "1bb6a7d8",
   "metadata": {},
   "outputs": [
    {
     "name": "stdout",
     "output_type": "stream",
     "text": [
      "singularValuesSqrt plotted with piston-oriented display.\n"
     ]
    }
   ],
   "source": [
    "infos = {\"details\":\"\",'TelsToDisplay':['S1','E2','E1','S2','W2']}#,'E1S2','E1W1']}\n",
    "outputsData=['PistonGDcorr','SquaredSnrGD','singularValuesSqrt']\n",
    "#sk.display('perftable','perftableres2',outputsData=outputsData, infos=infos, withsnr=True,UsedTelemetries='true')\n",
    "\n",
    "sk.display('pdCmdPis','snr',timebonds=timebonds, outputsData=outputsData, infos=infos, withsnr=True,UsedTelemetries='true')"
   ]
  },
  {
   "cell_type": "code",
   "execution_count": 5,
   "id": "7c5adb1e",
   "metadata": {},
   "outputs": [
    {
     "data": {
      "text/plain": [
       "array(['E1W2', 'E1W1', 'E1S2', 'E1S1', 'E1E2', 'W2W1', 'W2S2', 'W2S1',\n",
       "       'W2E2', 'W1S2', 'W1S1', 'W1E2', 'S2S1', 'S2E2', 'S1E2'],\n",
       "      dtype='<U4')"
      ]
     },
     "execution_count": 5,
     "metadata": {},
     "output_type": "execute_result"
    }
   ],
   "source": [
    "dm.baselines"
   ]
  },
  {
   "cell_type": "code",
   "execution_count": 8,
   "id": "4d678657",
   "metadata": {},
   "outputs": [
    {
     "data": {
      "text/plain": [
       "20"
      ]
     },
     "execution_count": 8,
     "metadata": {},
     "output_type": "execute_result"
    }
   ],
   "source": [
    "config.FS['NCmes']"
   ]
  },
  {
   "cell_type": "code",
   "execution_count": 9,
   "id": "13d49082",
   "metadata": {},
   "outputs": [],
   "source": [
    "cpGD=np.zeros([config.NT,config.NC])\n",
    "for it in range(config.NT):\n",
    "    cpGD[it]=ct.check_cp(outputs.GDEstimated[it])"
   ]
  },
  {
   "cell_type": "code",
   "execution_count": 10,
   "id": "f3809b8f",
   "metadata": {},
   "outputs": [
    {
     "data": {
      "text/plain": [
       "array([0., 0., 0., 0., 0., 0., 0., 0., 0., 0., 0., 0., 0., 0., 0., 0., 0.,\n",
       "       0., 0., 0., 0., 0., 0., 0., 0., 0., 0., 0., 0., 0., 0., 0., 0., 0.,\n",
       "       0., 0., 0., 0., 0., 0., 0., 0., 0., 0., 0., 0., 0., 0., 0., 0., 0.,\n",
       "       0., 0., 0., 0., 0., 0., 0., 0., 0., 0., 0., 0., 0., 0., 0., 0., 0.,\n",
       "       0., 0., 0., 0., 0., 0., 0., 0., 0., 0., 0., 0., 0., 0., 0., 0., 0.,\n",
       "       0., 0., 0., 0., 0., 0., 0., 0., 0., 0., 0., 0., 0., 0., 0.])"
      ]
     },
     "execution_count": 10,
     "metadata": {},
     "output_type": "execute_result"
    }
   ],
   "source": [
    "cpGD[-100:,10]"
   ]
  },
  {
   "cell_type": "code",
   "execution_count": 7,
   "id": "da97ce18",
   "metadata": {},
   "outputs": [
    {
     "ename": "KeyboardInterrupt",
     "evalue": "",
     "output_type": "error",
     "traceback": [
      "\u001b[1;31m---------------------------------------------------------------------------\u001b[0m",
      "\u001b[1;31mKeyboardInterrupt\u001b[0m                         Traceback (most recent call last)",
      "Cell \u001b[1;32mIn[7], line 3\u001b[0m\n\u001b[0;32m      1\u001b[0m plt\u001b[38;5;241m.\u001b[39mfigure()\n\u001b[0;32m      2\u001b[0m plt\u001b[38;5;241m.\u001b[39mplot(cpGD\u001b[38;5;241m*\u001b[39m\u001b[38;5;241m180\u001b[39m\u001b[38;5;241m/\u001b[39mnp\u001b[38;5;241m.\u001b[39mpi)\n\u001b[1;32m----> 3\u001b[0m \u001b[43mplt\u001b[49m\u001b[38;5;241;43m.\u001b[39;49m\u001b[43mshow\u001b[49m\u001b[43m(\u001b[49m\u001b[43m)\u001b[49m\n",
      "File \u001b[1;32m~\\.conda\\envs\\cophasim\\lib\\site-packages\\matplotlib\\pyplot.py:445\u001b[0m, in \u001b[0;36mshow\u001b[1;34m(*args, **kwargs)\u001b[0m\n\u001b[0;32m    401\u001b[0m \u001b[38;5;124;03m\"\"\"\u001b[39;00m\n\u001b[0;32m    402\u001b[0m \u001b[38;5;124;03mDisplay all open figures.\u001b[39;00m\n\u001b[0;32m    403\u001b[0m \n\u001b[1;32m   (...)\u001b[0m\n\u001b[0;32m    442\u001b[0m \u001b[38;5;124;03mexplicitly there.\u001b[39;00m\n\u001b[0;32m    443\u001b[0m \u001b[38;5;124;03m\"\"\"\u001b[39;00m\n\u001b[0;32m    444\u001b[0m _warn_if_gui_out_of_main_thread()\n\u001b[1;32m--> 445\u001b[0m \u001b[38;5;28;01mreturn\u001b[39;00m _get_backend_mod()\u001b[38;5;241m.\u001b[39mshow(\u001b[38;5;241m*\u001b[39margs, \u001b[38;5;241m*\u001b[39m\u001b[38;5;241m*\u001b[39mkwargs)\n",
      "File \u001b[1;32m~\\.conda\\envs\\cophasim\\lib\\site-packages\\matplotlib\\backend_bases.py:3616\u001b[0m, in \u001b[0;36m_Backend.show\u001b[1;34m(cls, block)\u001b[0m\n\u001b[0;32m   3614\u001b[0m     block \u001b[38;5;241m=\u001b[39m \u001b[38;5;129;01mnot\u001b[39;00m ipython_pylab \u001b[38;5;129;01mand\u001b[39;00m \u001b[38;5;129;01mnot\u001b[39;00m is_interactive()\n\u001b[0;32m   3615\u001b[0m \u001b[38;5;28;01mif\u001b[39;00m block:\n\u001b[1;32m-> 3616\u001b[0m     \u001b[38;5;28;43mcls\u001b[39;49m\u001b[38;5;241;43m.\u001b[39;49m\u001b[43mmainloop\u001b[49m\u001b[43m(\u001b[49m\u001b[43m)\u001b[49m\n",
      "File \u001b[1;32m~\\.conda\\envs\\cophasim\\lib\\site-packages\\matplotlib\\backends\\backend_qt.py:604\u001b[0m, in \u001b[0;36mFigureManagerQT.start_main_loop\u001b[1;34m(cls)\u001b[0m\n\u001b[0;32m    602\u001b[0m qapp \u001b[38;5;241m=\u001b[39m QtWidgets\u001b[38;5;241m.\u001b[39mQApplication\u001b[38;5;241m.\u001b[39minstance()\n\u001b[0;32m    603\u001b[0m \u001b[38;5;28;01mif\u001b[39;00m qapp:\n\u001b[1;32m--> 604\u001b[0m     \u001b[38;5;28;01mwith\u001b[39;00m _maybe_allow_interrupt(qapp):\n\u001b[0;32m    605\u001b[0m         qt_compat\u001b[38;5;241m.\u001b[39m_exec(qapp)\n",
      "File \u001b[1;32m~\\.conda\\envs\\cophasim\\lib\\contextlib.py:142\u001b[0m, in \u001b[0;36m_GeneratorContextManager.__exit__\u001b[1;34m(self, typ, value, traceback)\u001b[0m\n\u001b[0;32m    140\u001b[0m \u001b[38;5;28;01mif\u001b[39;00m typ \u001b[38;5;129;01mis\u001b[39;00m \u001b[38;5;28;01mNone\u001b[39;00m:\n\u001b[0;32m    141\u001b[0m     \u001b[38;5;28;01mtry\u001b[39;00m:\n\u001b[1;32m--> 142\u001b[0m         \u001b[38;5;28;43mnext\u001b[39;49m\u001b[43m(\u001b[49m\u001b[38;5;28;43mself\u001b[39;49m\u001b[38;5;241;43m.\u001b[39;49m\u001b[43mgen\u001b[49m\u001b[43m)\u001b[49m\n\u001b[0;32m    143\u001b[0m     \u001b[38;5;28;01mexcept\u001b[39;00m \u001b[38;5;167;01mStopIteration\u001b[39;00m:\n\u001b[0;32m    144\u001b[0m         \u001b[38;5;28;01mreturn\u001b[39;00m \u001b[38;5;28;01mFalse\u001b[39;00m\n",
      "File \u001b[1;32m~\\.conda\\envs\\cophasim\\lib\\site-packages\\matplotlib\\backends\\qt_compat.py:245\u001b[0m, in \u001b[0;36m_maybe_allow_interrupt\u001b[1;34m(qapp)\u001b[0m\n\u001b[0;32m    243\u001b[0m signal\u001b[38;5;241m.\u001b[39msignal(signal\u001b[38;5;241m.\u001b[39mSIGINT, old_sigint_handler)\n\u001b[0;32m    244\u001b[0m \u001b[38;5;28;01mif\u001b[39;00m handler_args \u001b[38;5;129;01mis\u001b[39;00m \u001b[38;5;129;01mnot\u001b[39;00m \u001b[38;5;28;01mNone\u001b[39;00m:\n\u001b[1;32m--> 245\u001b[0m     \u001b[43mold_sigint_handler\u001b[49m\u001b[43m(\u001b[49m\u001b[38;5;241;43m*\u001b[39;49m\u001b[43mhandler_args\u001b[49m\u001b[43m)\u001b[49m\n",
      "\u001b[1;31mKeyboardInterrupt\u001b[0m: "
     ]
    }
   ],
   "source": [
    "plt.figure()\n",
    "plt.plot(cpGD*180/np.pi)\n",
    "plt.show()"
   ]
  },
  {
   "cell_type": "code",
   "execution_count": 21,
   "id": "8fbb0a33",
   "metadata": {},
   "outputs": [
    {
     "data": {
      "text/plain": [
       "1.0"
      ]
     },
     "execution_count": 21,
     "metadata": {},
     "output_type": "execute_result"
    }
   ],
   "source": [
    "config.FT['ThresholdPD']"
   ]
  },
  {
   "cell_type": "code",
   "execution_count": 10,
   "id": "380914bd",
   "metadata": {},
   "outputs": [
    {
     "data": {
      "text/plain": [
       "'gd'"
      ]
     },
     "execution_count": 10,
     "metadata": {},
     "output_type": "execute_result"
    }
   ],
   "source": [
    "config.FT['whichSNR']"
   ]
  },
  {
   "cell_type": "code",
   "execution_count": 25,
   "id": "0f1a77a5",
   "metadata": {},
   "outputs": [],
   "source": [
    "from cophasim import display_module as dm\n",
    "\n",
    "timestamps = outputs.timestamps\n",
    "obs = outputs.PhotometryEstimated\n",
    "plotObs = dm.PlotTel\n",
    "obsBar = np.mean(obs,axis=0)\n",
    "generalTitle = \"flux\"\n",
    "dm.simpleplot_tels(timestamps, obs,obsBar,generalTitle,plotObs,mov_average=5,\n",
    "               obsName='Flux',barName='Average',display=True,filename='',ext='pdf',infos={\"details\":''},\n",
    "               verbose=False)"
   ]
  },
  {
   "cell_type": "code",
   "execution_count": 59,
   "id": "cd3af6fb",
   "metadata": {},
   "outputs": [],
   "source": [
    "infos[\"details\"] = f\"{filename.split('/')[-1][:5]}\"\n",
    "\n",
    "sk.display('estFlux','snr','gdHist','gdCmdPis',outputsData=outputsData, infos=infos, timebonds=timebonds, withsnr=True,UsedTelemetries='true')#,\n",
    "           #savedir='tuneGains/',ext='jpg')"
   ]
  },
  {
   "cell_type": "code",
   "execution_count": 9,
   "id": "104d3613",
   "metadata": {},
   "outputs": [
    {
     "data": {
      "text/plain": [
       "0.7453559924999299"
      ]
     },
     "execution_count": 9,
     "metadata": {},
     "output_type": "execute_result"
    }
   ],
   "source": [
    "I1=1\n",
    "I2=1/5\n",
    "\n",
    "2*np.sqrt(I1*I2)/(I1+I2)"
   ]
  },
  {
   "cell_type": "code",
   "execution_count": 49,
   "id": "ea61885e",
   "metadata": {},
   "outputs": [
    {
     "data": {
      "text/plain": [
       "array([0.40000001, 0.40000001, 0.40000001, ..., 0.40000001, 0.40000001,\n",
       "       0.40000001])"
      ]
     },
     "execution_count": 49,
     "metadata": {},
     "output_type": "execute_result"
    }
   ],
   "source": [
    "outputs.GainPD"
   ]
  },
  {
   "cell_type": "markdown",
   "id": "69d7b90e",
   "metadata": {},
   "source": [
    "## Variance evolution"
   ]
  },
  {
   "cell_type": "code",
   "execution_count": 51,
   "id": "34f5b784",
   "metadata": {},
   "outputs": [],
   "source": [
    "frameNb = outputs.FrameNb\n",
    "timestamps = outputs.timestamps"
   ]
  },
  {
   "cell_type": "markdown",
   "id": "b9832cd1",
   "metadata": {},
   "source": [
    "# Spectral analysis"
   ]
  },
  {
   "cell_type": "code",
   "execution_count": 102,
   "id": "4584debc",
   "metadata": {},
   "outputs": [],
   "source": [
    "from cophasim import outputs,config\n",
    "from cophasim import coh_tools as ct\n",
    "chara = ct.get_array('CHARA')\n",
    "\n",
    "from cophasim import display_module as dm\n",
    "\n",
    "baseName = \"S2S1\"\n",
    "iBaseMes = np.argwhere(dm.baselines == baseName)[0][0]\n",
    "iTel1 = np.argwhere(np.array(dm.telescopes) == baseName[:2])[0][0]\n",
    "iTel2 = np.argwhere(np.array(dm.telescopes) == baseName[2:])[0][0]"
   ]
  },
  {
   "cell_type": "code",
   "execution_count": 105,
   "id": "00df326e",
   "metadata": {},
   "outputs": [],
   "source": [
    "NT = len(outputs.timestamps)\n",
    "timerange = range(np.argmin(np.abs(outputs.timestamps-0)),np.argmin(np.abs(outputs.timestamps-40)))\n",
    "#timerange = range(NT)\n",
    "timestamps = outputs.timestamps[timerange]\n",
    "\n",
    "residues = outputs.PDEstimated[timerange,iBaseMes]*config.wlOfTrack/2/np.pi\n",
    "rms = np.std(residues)*1e3\n",
    "PDcommands = outputs.PDCommand[timerange,iBaseMes]*config.wlOfTrack/2/np.pi\n",
    "GDcommands = outputs.GDCommand[timerange,iBaseMes]*config.wlOfTrack*config.FS['R']/2/np.pi\n",
    "photometries = outputs.PhotometryEstimated[timerange]\n",
    "\n",
    "pdVar = outputs.varPD[timerange,iBaseMes]\n",
    "gdVar = outputs.varGD[timerange,iBaseMes]\n",
    "pdVarMean = 1/outputs.SquaredSNRMovingAveragePD[timerange,iBaseMes]\n",
    "\n"
   ]
  },
  {
   "cell_type": "code",
   "execution_count": 106,
   "id": "76c88594",
   "metadata": {},
   "outputs": [
    {
     "data": {
      "text/plain": [
       "{'CutoffFrequency0dB': 13.537278196309629, 'EstimatedT0': 0.20284044630639472}"
      ]
     },
     "execution_count": 106,
     "metadata": {},
     "output_type": "execute_result"
    }
   ],
   "source": [
    "TT.BodeDiagrams(residues-np.mean(residues), PDcommands, timestamps,window='no',\n",
    "                details=f\"{filename.split('/')[-1][:6]}_{baseName}\",mov_average=10,figsave=True, figdir='tuneGains/',ext='jpg')"
   ]
  },
  {
   "cell_type": "code",
   "execution_count": 107,
   "id": "dc923544",
   "metadata": {},
   "outputs": [],
   "source": [
    "freqs, dsp, dspFit, cumVar = TT.PowerSpectralDensity(residues-np.mean(residues), timestamps,\n",
    "                                                     window='no',cumStd=True,\n",
    "                                                     details=f\"{filename.split('/')[-1][:6]}_{baseName}\",\n",
    "                                                     mov_average=10,\n",
    "                                                     figsave=True, figdir='tuneGains/',ext='jpg')"
   ]
  },
  {
   "cell_type": "code",
   "execution_count": 55,
   "id": "04c3d5a5",
   "metadata": {},
   "outputs": [
    {
     "name": "stdout",
     "output_type": "stream",
     "text": [
      "0.006428579737381819 Hz\n"
     ]
    }
   ],
   "source": [
    "df = freqs[1]-freqs[0] ; print(df,'Hz')"
   ]
  },
  {
   "cell_type": "markdown",
   "id": "a5e0f3a6",
   "metadata": {},
   "source": [
    "### Commands"
   ]
  },
  {
   "cell_type": "code",
   "execution_count": 57,
   "id": "b781bc1a",
   "metadata": {},
   "outputs": [
    {
     "ename": "NameError",
     "evalue": "name 'base' is not defined",
     "output_type": "error",
     "traceback": [
      "\u001b[1;31m---------------------------------------------------------------------------\u001b[0m",
      "\u001b[1;31mNameError\u001b[0m                                 Traceback (most recent call last)",
      "Cell \u001b[1;32mIn[57], line 2\u001b[0m\n\u001b[0;32m      1\u001b[0m TT\u001b[38;5;241m.\u001b[39mPowerSpectralDensity(PDcommands\u001b[38;5;241m-\u001b[39mnp\u001b[38;5;241m.\u001b[39mmean(PDcommands), timestamps,residues,\n\u001b[1;32m----> 2\u001b[0m                              details\u001b[38;5;241m=\u001b[39m\u001b[38;5;124mf\u001b[39m\u001b[38;5;124m'\u001b[39m\u001b[38;5;124mCommands&Residues on \u001b[39m\u001b[38;5;132;01m{\u001b[39;00mbase\u001b[38;5;132;01m}\u001b[39;00m\u001b[38;5;124m (\u001b[39m\u001b[38;5;132;01m{\u001b[39;00m\u001b[38;5;28mround\u001b[39m(length)\u001b[38;5;132;01m}\u001b[39;00m\u001b[38;5;124mm)\u001b[39m\u001b[38;5;124m'\u001b[39m,mov_average\u001b[38;5;241m=\u001b[39m\u001b[38;5;241m10\u001b[39m)\n\u001b[0;32m      4\u001b[0m freqs, dsp, dspFit \u001b[38;5;241m=\u001b[39m TT\u001b[38;5;241m.\u001b[39mPowerSpectralDensity(PDcommands\u001b[38;5;241m-\u001b[39mnp\u001b[38;5;241m.\u001b[39mmean(PDcommands), timestamps,\n\u001b[0;32m      5\u001b[0m                              details\u001b[38;5;241m=\u001b[39m\u001b[38;5;124mf\u001b[39m\u001b[38;5;124m'\u001b[39m\u001b[38;5;124mPD Commands on \u001b[39m\u001b[38;5;132;01m{\u001b[39;00mbase\u001b[38;5;132;01m}\u001b[39;00m\u001b[38;5;124m (\u001b[39m\u001b[38;5;132;01m{\u001b[39;00m\u001b[38;5;28mround\u001b[39m(length)\u001b[38;5;132;01m}\u001b[39;00m\u001b[38;5;124mm)\u001b[39m\u001b[38;5;124m'\u001b[39m,mov_average\u001b[38;5;241m=\u001b[39m\u001b[38;5;241m10\u001b[39m)\n\u001b[0;32m      7\u001b[0m TT\u001b[38;5;241m.\u001b[39mPowerSpectralDensity(GDcommands\u001b[38;5;241m-\u001b[39mnp\u001b[38;5;241m.\u001b[39mmean(GDcommands), timestamps,\n\u001b[0;32m      8\u001b[0m                              details\u001b[38;5;241m=\u001b[39m\u001b[38;5;124mf\u001b[39m\u001b[38;5;124m'\u001b[39m\u001b[38;5;124mGD Commands on \u001b[39m\u001b[38;5;132;01m{\u001b[39;00mbase\u001b[38;5;132;01m}\u001b[39;00m\u001b[38;5;124m (\u001b[39m\u001b[38;5;132;01m{\u001b[39;00m\u001b[38;5;28mround\u001b[39m(length)\u001b[38;5;132;01m}\u001b[39;00m\u001b[38;5;124mm)\u001b[39m\u001b[38;5;124m'\u001b[39m,mov_average\u001b[38;5;241m=\u001b[39m\u001b[38;5;241m10\u001b[39m)\n",
      "\u001b[1;31mNameError\u001b[0m: name 'base' is not defined"
     ]
    }
   ],
   "source": [
    "TT.PowerSpectralDensity(PDcommands-np.mean(PDcommands), timestamps,residues,\n",
    "                             details=f'Commands&Residues on {base} ({round(length)}m)',mov_average=10)\n",
    "\n",
    "freqs, dsp, dspFit = TT.PowerSpectralDensity(PDcommands-np.mean(PDcommands), timestamps,\n",
    "                             details=f'PD Commands on {base} ({round(length)}m)',mov_average=10)\n",
    "\n",
    "TT.PowerSpectralDensity(GDcommands-np.mean(GDcommands), timestamps,\n",
    "                             details=f'GD Commands on {base} ({round(length)}m)',mov_average=10)"
   ]
  },
  {
   "cell_type": "markdown",
   "id": "f67df9e0",
   "metadata": {},
   "source": [
    "### Residues"
   ]
  },
  {
   "cell_type": "code",
   "execution_count": 9,
   "id": "35689da0",
   "metadata": {},
   "outputs": [],
   "source": [
    "freqs, dsp, dspFit, cumVar = TT.PowerSpectralDensity(residues-np.mean(residues), timestamps,\n",
    "                                                     window='no',cumStd=True,\n",
    "                                                     details=f'Residues on {base} ({round(length)}m)',\n",
    "                                                     mov_average=10)"
   ]
  },
  {
   "cell_type": "code",
   "execution_count": 10,
   "id": "07f88602",
   "metadata": {},
   "outputs": [
    {
     "data": {
      "text/plain": [
       "0.04740251518289713"
      ]
     },
     "execution_count": 10,
     "metadata": {},
     "output_type": "execute_result"
    }
   ],
   "source": [
    "np.sum(dsp)"
   ]
  },
  {
   "cell_type": "markdown",
   "id": "f8f3f89b",
   "metadata": {},
   "source": [
    "## Plot closure phases"
   ]
  },
  {
   "cell_type": "code",
   "execution_count": 93,
   "id": "82c4523a",
   "metadata": {},
   "outputs": [],
   "source": [
    "t = outputs.timestamps\n",
    "cpPd = outputs.ClosurePhasePD\n",
    "cpGd = outputs.ClosurePhaseGD\n",
    "\n",
    "baseName = \"S2S1\"\n",
    "iBaseMes = np.argwhere(dm.baselines == baseName)[0][0]\n",
    "iTel1 = np.argwhere(np.array(dm.telescopes) == baseName[:2])[0][0]\n",
    "iTel2 = np.argwhere(np.array(dm.telescopes) == baseName[2:])[0][0]\n",
    "\n",
    "cpName = \"E1W2W1\"\n",
    "iCp = np.argwhere(dm.closures == cpName)[0][0]"
   ]
  },
  {
   "cell_type": "code",
   "execution_count": 96,
   "id": "cc5b95f0",
   "metadata": {},
   "outputs": [],
   "source": [
    "iCp = 2\n",
    "%matplotlib qt\n",
    "plt.figure()\n",
    "plt.plot(t,cpPd[:,iCp])\n",
    "plt.show()"
   ]
  },
  {
   "cell_type": "code",
   "execution_count": 92,
   "id": "03d582c8",
   "metadata": {},
   "outputs": [
    {
     "data": {
      "text/plain": [
       "array(['E1W2W1', 'E1W2S2', 'E1W2S1', 'E1W2E2', 'E1W1S2', 'E1W1S1',\n",
       "       'E1W1E2', 'E1S2S1', 'E1S2E2', 'E1S1E2', 'W2W2W1', 'W2W2S2',\n",
       "       'W2W2S1', 'W2W2E2', 'W2W1S2', 'W2W1S1', 'W2W1E2', 'W2S2S1',\n",
       "       'W2S2E2', 'W2S1E2', 'W1W2W1', 'W1W2S2', 'W1W2S1', 'W1W2E2',\n",
       "       'W1W1S2', 'W1W1S1', 'W1W1E2', 'W1S2S1', 'W1S2E2', 'W1S1E2',\n",
       "       'S2W2W1', 'S2W2S2', 'S2W2S1', 'S2W2E2', 'S2W1S2', 'S2W1S1',\n",
       "       'S2W1E2', 'S2S2S1', 'S2S2E2', 'S2S1E2', 'S1W2W1', 'S1W2S2',\n",
       "       'S1W2S1', 'S1W2E2', 'S1W1S2', 'S1W1S1', 'S1W1E2', 'S1S2S1',\n",
       "       'S1S2E2', 'S1S1E2', 'E2W2W1', 'E2W2S2', 'E2W2S1', 'E2W2E2',\n",
       "       'E2W1S2', 'E2W1S1', 'E2W1E2', 'E2S2S1', 'E2S2E2', 'E2S1E2'],\n",
       "      dtype='<U6')"
      ]
     },
     "execution_count": 92,
     "metadata": {},
     "output_type": "execute_result"
    }
   ],
   "source": []
  },
  {
   "cell_type": "markdown",
   "id": "106e08bb",
   "metadata": {},
   "source": [
    "Closure Phases 3, 6, 8, 9 are not good.\n",
    "\n",
    "E1W2W1\n",
    "S1S2W1\n"
   ]
  },
  {
   "cell_type": "code",
   "execution_count": null,
   "id": "cf9d7cb8",
   "metadata": {},
   "outputs": [],
   "source": []
  }
 ],
 "metadata": {
  "kernelspec": {
   "display_name": "Python 3 (ipykernel)",
   "language": "python",
   "name": "python3"
  },
  "language_info": {
   "codemirror_mode": {
    "name": "ipython",
    "version": 3
   },
   "file_extension": ".py",
   "mimetype": "text/x-python",
   "name": "python",
   "nbconvert_exporter": "python",
   "pygments_lexer": "ipython3",
   "version": "3.10.9"
  }
 },
 "nbformat": 4,
 "nbformat_minor": 5
}
