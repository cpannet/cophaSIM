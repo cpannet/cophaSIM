{
 "cells": [
  {
   "cell_type": "code",
   "execution_count": 1,
   "id": "38049aab",
   "metadata": {},
   "outputs": [],
   "source": [
    "import matplotlib.pyplot as plt\n",
    "from astropy.io import fits\n",
    "\n",
    "import numpy as np\n",
    "import os\n",
    "from cophasim import TrueTelemetries as TT\n",
    "from cophasim import tol_colors\n",
    "from cophasim import coh_tools as ct\n",
    "from cophasim import skeleton as sk\n",
    "from cophasim import config,outputs\n",
    "\n",
    "InterfArray = config.Interferometer()\n",
    "InterfArray.get_array(name='chara')\n",
    "\n",
    "cset = tol_colors.tol_cset(\"muted\")\n",
    "\n",
    "%matplotlib qt\n",
    "\n",
    "directory = os.getcwd()+\"/fileExample/\"\n",
    "filename = \"SPICAFT.TELEMETRY.2024-04-04T12-28-22.fits\"\n",
    "filepath = directory+filename"
   ]
  },
  {
   "cell_type": "markdown",
   "id": "78e993dc",
   "metadata": {},
   "source": [
    "### Optional part to show details of the fitsfile"
   ]
  },
  {
   "cell_type": "code",
   "execution_count": 2,
   "id": "e5cf0552",
   "metadata": {},
   "outputs": [
    {
     "name": "stdout",
     "output_type": "stream",
     "text": [
      "Filename: C:\\Users\\cpannetier\\Documents\\Programmation\\Python_packages\\cophaSIM\\cophasim\\examples\\readSpicaftData/fileExample/SPICAFT.TELEMETRY.2024-04-04T12-28-22.fits\n",
      "No.    Name      Ver    Type      Cards   Dimensions   Format\n",
      "  0  PRIMARY       1 PrimaryHDU      11   ()      \n",
      "  1  Telemetry     1 BinTableHDU    108   1999R x 33C   [1K, 15D, 6D, 15D, 15D, 15D, 15D, 15D, 10D, 10D, 15D, 15D, 15D, 2D, 6D, 6D, 15D, 15D, 15D, 15D, 6D, 15D, 6D, 6D, 6D, 6D, 6D, 2K, 2K, 5D, 1D, 15D, 6D]   \n"
     ]
    }
   ],
   "source": [
    "hduL = fits.open(filepath)\n",
    "\n",
    "\"\"\"\n",
    "General information on the structure of the file\n",
    "\"\"\"\n",
    "hduL.info()"
   ]
  },
  {
   "cell_type": "markdown",
   "id": "62e87b6d",
   "metadata": {},
   "source": [
    "### Mandatory step for loading fits data into outputs module\n",
    "The outputs module gather all telemetries. The next steps need these data into outputs module in order to process it.\n",
    "See outputs.py into cophasim package to have a detail of the outputs module and available data."
   ]
  },
  {
   "cell_type": "code",
   "execution_count": 3,
   "id": "6429438b",
   "metadata": {},
   "outputs": [
    {
     "name": "stdout",
     "output_type": "stream",
     "text": [
      "SPICAFT.TELEMETRY.2024-04-04T12-28-22.fits\n"
     ]
    }
   ],
   "source": [
    "TT.ReadFits(filepath) # Load some quantities into outputs module"
   ]
  },
  {
   "cell_type": "markdown",
   "id": "ebde3f90",
   "metadata": {},
   "source": [
    "### Display main data"
   ]
  },
  {
   "cell_type": "code",
   "execution_count": 4,
   "id": "a40f086f",
   "metadata": {},
   "outputs": [],
   "source": [
    "sk.display()"
   ]
  },
  {
   "cell_type": "markdown",
   "id": "cad4ea35",
   "metadata": {},
   "source": [
    "If you want to save the figures into \"figures\" directory:"
   ]
  },
  {
   "cell_type": "code",
   "execution_count": null,
   "id": "528cc3f1",
   "metadata": {},
   "outputs": [],
   "source": [
    "sk.display(savedir='figures/',ext='jpg')"
   ]
  },
  {
   "cell_type": "markdown",
   "id": "3d23c52e",
   "metadata": {},
   "source": [
    "### Display data concerning only few telescopes"
   ]
  },
  {
   "cell_type": "code",
   "execution_count": 6,
   "id": "c3241fe6",
   "metadata": {},
   "outputs": [
    {
     "name": "stderr",
     "output_type": "stream",
     "text": [
      "C:\\Users\\cpannetier\\.conda\\envs\\cophasim\\lib\\site-packages\\cophasim\\coh_tools.py:2913: UserWarning: Attempting to set identical low and high xlims makes transformation singular; automatically expanding.\n",
      "  ax.set_xlim([xmin,xmax])\n",
      "C:\\Users\\cpannetier\\.conda\\envs\\cophasim\\lib\\site-packages\\cophasim\\coh_tools.py:2929: UserWarning: Attempting to set identical low and high ylims makes transformation singular; automatically expanding.\n",
      "  ax.set_ylim([ymin,ymax])\n"
     ]
    }
   ],
   "source": [
    "infos = {\"details\":f\"{filename.split('/')[-1]}\",'telsToDisplay':['S1','S2']}\n",
    "timebonds = (0,-1)\n",
    "\n",
    "outputsData=['SquaredSnrGD','SquaredSnrPD'] # show the variables which point to \"SquaredSnrGD\" and \"SquaredSnrPD\" names in outputs module\n",
    "\n",
    "sk.display('gdPdCmd','gdCmdPis',timebonds=timebonds, outputsData=[], infos=infos)"
   ]
  },
  {
   "cell_type": "markdown",
   "id": "7c1793b0",
   "metadata": {},
   "source": [
    "### Display data concerning only few baselines"
   ]
  },
  {
   "cell_type": "code",
   "execution_count": 7,
   "id": "034c556b",
   "metadata": {},
   "outputs": [],
   "source": [
    "infos = {\"details\":f\"{filename.split('/')[-1]}\",'basesToDisplay':['S1S2','W1E2']}\n",
    "timebonds = (0,100) # show only the 100 first seconds of the sequence\n",
    "\n",
    "sk.display('gdPdEst','gdHist',timebonds=timebonds, outputsData=[], infos=infos) # Use gdPdEst and gdHist arguments to plot specific figures (see documentation)"
   ]
  },
  {
   "cell_type": "markdown",
   "id": "b722e7df",
   "metadata": {},
   "source": [
    "### Display documentation"
   ]
  },
  {
   "cell_type": "code",
   "execution_count": 11,
   "id": "a037bca7",
   "metadata": {},
   "outputs": [],
   "source": [
    "sk.display?"
   ]
  },
  {
   "cell_type": "code",
   "execution_count": 12,
   "id": "45824f4b",
   "metadata": {},
   "outputs": [
    {
     "name": "stdout",
     "output_type": "stream",
     "text": [
      "CommandODL plotted with piston-oriented display.\n"
     ]
    },
    {
     "name": "stderr",
     "output_type": "stream",
     "text": [
      "C:\\Users\\cpannetier\\.conda\\envs\\cophasim\\lib\\site-packages\\cophasim\\coh_tools.py:2929: UserWarning: Attempting to set identical low and high ylims makes transformation singular; automatically expanding.\n",
      "  ax.set_ylim([ymin,ymax])\n",
      "C:\\Users\\cpannetier\\.conda\\envs\\cophasim\\lib\\site-packages\\cophasim\\coh_tools.py:2913: UserWarning: Attempting to set identical low and high xlims makes transformation singular; automatically expanding.\n",
      "  ax.set_xlim([xmin,xmax])\n",
      "C:\\Users\\cpannetier\\.conda\\envs\\cophasim\\lib\\site-packages\\cophasim\\coh_tools.py:2913: UserWarning: Attempting to set identical low and high xlims makes transformation singular; automatically expanding.\n",
      "  ax.set_xlim([xmin,xmax])\n"
     ]
    }
   ],
   "source": [
    "infos = {\"details\":f\"{filename.split('/')[-1][:5]}\"}\n",
    "timebonds = (0,-1)\n",
    "\n",
    "infos = {'details':'','telsToDisplay':['S2','W1','E2']}\n",
    "outputsData = ['CommandODL','OPDCommand']\n",
    "sk.display('perftable','gdPdCmd','gdPdCmdDiff','estFlux','gdHist',timebonds=timebonds, outputsData=outputsData, infos=infos)"
   ]
  },
  {
   "cell_type": "code",
   "execution_count": null,
   "id": "4cc77d76",
   "metadata": {},
   "outputs": [],
   "source": [
    "from cophasim import skeleton as sk\n",
    "from cophasim import config,outputs\n",
    "\n",
    "InterfArray = config.Interferometer()\n",
    "InterfArray.get_array(name='chara')\n",
    "\n",
    "infos = {\"details\":f\"{filename.split('/')[-1][:5]}\"}\n",
    "timebonds = (0,-1)\n",
    "\n",
    "sk.display('perftable','gdPdCmd','estFlux',timebonds=timebonds, outputsData=[], infos=infos, withsnr=True,UsedTelemetries='true')\n",
    "#sk.display('gdHist',timebonds=timebonds, outputsData=[], infos=infos, withsnr=True,UsedTelemetries='true',\n",
    "#           savedir='figures/',ext='jpg')"
   ]
  },
  {
   "cell_type": "code",
   "execution_count": null,
   "id": "2b89eb92",
   "metadata": {},
   "outputs": [],
   "source": [
    "infos = {\"details\":\"\",'TelsToDisplay':['S1','W1','S2']}\n",
    "sk.display('perfcp',timebonds=timebonds, outputsData=[], infos=infos, withsnr=True,UsedTelemetries='true')"
   ]
  },
  {
   "cell_type": "code",
   "execution_count": null,
   "id": "b12b80c2",
   "metadata": {},
   "outputs": [],
   "source": [
    "infos = {\"details\":\"\"}#,'TelsToDisplay':['S1','W1','S2']}\n",
    "sk.display('perftable','gdPdCmd','gdCmdPis','perfcp',timebonds=timebonds, outputsData=['PistonGDcorr'], infos=infos, withsnr=True,UsedTelemetries='true')"
   ]
  },
  {
   "cell_type": "code",
   "execution_count": null,
   "id": "8f525a5a",
   "metadata": {},
   "outputs": [],
   "source": [
    "timebonds = (0,-1)\n",
    "infos = {\"details\":\"\"}#,'TelsToDisplay':['E1','S1','E2','S2']}\n",
    "outputsData=['SquaredSnrGD','PistonGDcorr']#'SquaredSnrGD','SquaredSnrPD','SquaredSNRMovingAveragePD']\n",
    "#sk.display('perftable','perftableres2',outputsData=outputsData, infos=infos, withsnr=True,UsedTelemetries='true')\n",
    "\n",
    "sk.display('estFlux','snr','perftable','perftableres2','pdCmdPis','gdCmdPis','gdCmd',timebonds=timebonds, outputsData=outputsData, infos=infos, withsnr=True,UsedTelemetries='true')"
   ]
  },
  {
   "cell_type": "code",
   "execution_count": null,
   "id": "414ca0f9",
   "metadata": {},
   "outputs": [],
   "source": [
    "infos = {\"details\":\"\"}#,'E1S2','E1W1']}\n",
    "outputsData=['PistonGDcorr']\n",
    "sk.display('gdCmdPis',timebonds=timebonds, outputsData=outputsData, infos=infos, withsnr=True,UsedTelemetries='true')"
   ]
  },
  {
   "cell_type": "code",
   "execution_count": null,
   "id": "17929972",
   "metadata": {},
   "outputs": [],
   "source": [
    "infos = {\"details\":\"\",'TelsToDisplay':['S1','E2']}#,'E1S2','E1W1']}\n",
    "outputsData=['SquaredSnrGD','PistonGDcorr','SquaredSnrGD','SquaredSnrPD']#,'SquaredSNRMovingAveragePD']\n",
    "#sk.display('perftable','perftableres2',outputsData=outputsData, infos=infos, withsnr=True,UsedTelemetries='true')\n",
    "\n",
    "sk.display('perftable','snr','gdPdCmd','pdCmdPis',timebonds=timebonds, outputsData=outputsData, infos=infos, withsnr=True,UsedTelemetries='true')"
   ]
  },
  {
   "cell_type": "code",
   "execution_count": null,
   "id": "1bb6a7d8",
   "metadata": {},
   "outputs": [],
   "source": [
    "infos = {\"details\":\"\",'TelsToDisplay':['S1','E2','E1','S2','W2']}#,'E1S2','E1W1']}\n",
    "outputsData=['PistonGDcorr','SquaredSnrGD','singularValuesSqrt']\n",
    "#sk.display('perftable','perftableres2',outputsData=outputsData, infos=infos, withsnr=True,UsedTelemetries='true')\n",
    "\n",
    "sk.display('pdCmdPis','snr',timebonds=timebonds, outputsData=outputsData, infos=infos, withsnr=True,UsedTelemetries='true')"
   ]
  },
  {
   "cell_type": "code",
   "execution_count": null,
   "id": "7c5adb1e",
   "metadata": {},
   "outputs": [],
   "source": [
    "dm.baselines"
   ]
  },
  {
   "cell_type": "code",
   "execution_count": null,
   "id": "4d678657",
   "metadata": {},
   "outputs": [],
   "source": [
    "config.FS['NCmes']"
   ]
  },
  {
   "cell_type": "code",
   "execution_count": null,
   "id": "13d49082",
   "metadata": {},
   "outputs": [],
   "source": [
    "cpGD=np.zeros([config.NT,config.NC])\n",
    "for it in range(config.NT):\n",
    "    cpGD[it]=ct.check_cp(outputs.GDEstimated[it])"
   ]
  },
  {
   "cell_type": "code",
   "execution_count": null,
   "id": "f3809b8f",
   "metadata": {},
   "outputs": [],
   "source": [
    "cpGD[-100:,10]"
   ]
  },
  {
   "cell_type": "code",
   "execution_count": null,
   "id": "da97ce18",
   "metadata": {},
   "outputs": [],
   "source": [
    "plt.figure()\n",
    "plt.plot(cpGD*180/np.pi)\n",
    "plt.show()"
   ]
  },
  {
   "cell_type": "code",
   "execution_count": null,
   "id": "8fbb0a33",
   "metadata": {},
   "outputs": [],
   "source": [
    "config.FT['ThresholdPD']"
   ]
  },
  {
   "cell_type": "code",
   "execution_count": null,
   "id": "380914bd",
   "metadata": {},
   "outputs": [],
   "source": [
    "config.FT['whichSNR']"
   ]
  },
  {
   "cell_type": "code",
   "execution_count": null,
   "id": "0f1a77a5",
   "metadata": {},
   "outputs": [],
   "source": [
    "from cophasim import display_module as dm\n",
    "\n",
    "timestamps = outputs.timestamps\n",
    "obs = outputs.PhotometryEstimated\n",
    "plotObs = dm.PlotTel\n",
    "obsBar = np.mean(obs,axis=0)\n",
    "generalTitle = \"flux\"\n",
    "dm.simpleplot_tels(timestamps, obs,obsBar,generalTitle,plotObs,mov_average=5,\n",
    "               obsName='Flux',barName='Average',display=True,filename='',ext='pdf',infos={\"details\":''},\n",
    "               verbose=False)"
   ]
  },
  {
   "cell_type": "code",
   "execution_count": null,
   "id": "cd3af6fb",
   "metadata": {},
   "outputs": [],
   "source": [
    "infos[\"details\"] = f\"{filename.split('/')[-1][:5]}\"\n",
    "\n",
    "sk.display('estFlux','snr','gdHist','gdCmdPis',outputsData=outputsData, infos=infos, timebonds=timebonds, withsnr=True,UsedTelemetries='true')#,\n",
    "           #savedir='tuneGains/',ext='jpg')"
   ]
  },
  {
   "cell_type": "code",
   "execution_count": null,
   "id": "104d3613",
   "metadata": {},
   "outputs": [],
   "source": [
    "I1=1\n",
    "I2=1/5\n",
    "\n",
    "2*np.sqrt(I1*I2)/(I1+I2)"
   ]
  },
  {
   "cell_type": "code",
   "execution_count": null,
   "id": "ea61885e",
   "metadata": {},
   "outputs": [],
   "source": [
    "outputs.GainPD"
   ]
  },
  {
   "cell_type": "markdown",
   "id": "69d7b90e",
   "metadata": {},
   "source": [
    "## Variance evolution"
   ]
  },
  {
   "cell_type": "code",
   "execution_count": null,
   "id": "34f5b784",
   "metadata": {},
   "outputs": [],
   "source": [
    "frameNb = outputs.FrameNb\n",
    "timestamps = outputs.timestamps"
   ]
  },
  {
   "cell_type": "markdown",
   "id": "b9832cd1",
   "metadata": {},
   "source": [
    "# Spectral analysis"
   ]
  },
  {
   "cell_type": "code",
   "execution_count": null,
   "id": "4584debc",
   "metadata": {},
   "outputs": [],
   "source": [
    "from cophasim import outputs,config\n",
    "from cophasim import coh_tools as ct\n",
    "chara = ct.get_array('CHARA')\n",
    "\n",
    "from cophasim import display_module as dm\n",
    "\n",
    "baseName = \"S2S1\"\n",
    "iBaseMes = np.argwhere(dm.baselines == baseName)[0][0]\n",
    "iTel1 = np.argwhere(np.array(dm.telescopes) == baseName[:2])[0][0]\n",
    "iTel2 = np.argwhere(np.array(dm.telescopes) == baseName[2:])[0][0]"
   ]
  },
  {
   "cell_type": "code",
   "execution_count": null,
   "id": "00df326e",
   "metadata": {},
   "outputs": [],
   "source": [
    "NT = len(outputs.timestamps)\n",
    "timerange = range(np.argmin(np.abs(outputs.timestamps-0)),np.argmin(np.abs(outputs.timestamps-40)))\n",
    "#timerange = range(NT)\n",
    "timestamps = outputs.timestamps[timerange]\n",
    "\n",
    "residues = outputs.PDEstimated[timerange,iBaseMes]*config.wlOfTrack/2/np.pi\n",
    "rms = np.std(residues)*1e3\n",
    "PDcommands = outputs.PDCommand[timerange,iBaseMes]*config.wlOfTrack/2/np.pi\n",
    "GDcommands = outputs.GDCommand[timerange,iBaseMes]*config.wlOfTrack*config.FS['R']/2/np.pi\n",
    "photometries = outputs.PhotometryEstimated[timerange]\n",
    "\n",
    "pdVar = outputs.varPD[timerange,iBaseMes]\n",
    "gdVar = outputs.varGD[timerange,iBaseMes]\n",
    "pdVarMean = 1/outputs.SquaredSNRMovingAveragePD[timerange,iBaseMes]\n",
    "\n"
   ]
  },
  {
   "cell_type": "code",
   "execution_count": null,
   "id": "76c88594",
   "metadata": {},
   "outputs": [],
   "source": [
    "TT.BodeDiagrams(residues-np.mean(residues), PDcommands, timestamps,window='no',\n",
    "                details=f\"{filename.split('/')[-1][:6]}_{baseName}\",mov_average=10,figsave=True, figdir='tuneGains/',ext='jpg')"
   ]
  },
  {
   "cell_type": "code",
   "execution_count": null,
   "id": "dc923544",
   "metadata": {},
   "outputs": [],
   "source": [
    "freqs, dsp, dspFit, cumVar = TT.PowerSpectralDensity(residues-np.mean(residues), timestamps,\n",
    "                                                     window='no',cumStd=True,\n",
    "                                                     details=f\"{filename.split('/')[-1][:6]}_{baseName}\",\n",
    "                                                     mov_average=10,\n",
    "                                                     figsave=True, figdir='tuneGains/',ext='jpg')"
   ]
  },
  {
   "cell_type": "code",
   "execution_count": null,
   "id": "04c3d5a5",
   "metadata": {},
   "outputs": [],
   "source": [
    "df = freqs[1]-freqs[0] ; print(df,'Hz')"
   ]
  },
  {
   "cell_type": "markdown",
   "id": "a5e0f3a6",
   "metadata": {},
   "source": [
    "### Commands"
   ]
  },
  {
   "cell_type": "code",
   "execution_count": null,
   "id": "b781bc1a",
   "metadata": {},
   "outputs": [],
   "source": [
    "TT.PowerSpectralDensity(PDcommands-np.mean(PDcommands), timestamps,residues,\n",
    "                             details=f'Commands&Residues on {base} ({round(length)}m)',mov_average=10)\n",
    "\n",
    "freqs, dsp, dspFit = TT.PowerSpectralDensity(PDcommands-np.mean(PDcommands), timestamps,\n",
    "                             details=f'PD Commands on {base} ({round(length)}m)',mov_average=10)\n",
    "\n",
    "TT.PowerSpectralDensity(GDcommands-np.mean(GDcommands), timestamps,\n",
    "                             details=f'GD Commands on {base} ({round(length)}m)',mov_average=10)"
   ]
  },
  {
   "cell_type": "markdown",
   "id": "f67df9e0",
   "metadata": {},
   "source": [
    "### Residues"
   ]
  },
  {
   "cell_type": "code",
   "execution_count": null,
   "id": "35689da0",
   "metadata": {},
   "outputs": [],
   "source": [
    "freqs, dsp, dspFit, cumVar = TT.PowerSpectralDensity(residues-np.mean(residues), timestamps,\n",
    "                                                     window='no',cumStd=True,\n",
    "                                                     details=f'Residues on {base} ({round(length)}m)',\n",
    "                                                     mov_average=10)"
   ]
  },
  {
   "cell_type": "code",
   "execution_count": null,
   "id": "07f88602",
   "metadata": {},
   "outputs": [],
   "source": [
    "np.sum(dsp)"
   ]
  },
  {
   "cell_type": "markdown",
   "id": "f8f3f89b",
   "metadata": {},
   "source": [
    "## Plot closure phases"
   ]
  },
  {
   "cell_type": "code",
   "execution_count": null,
   "id": "82c4523a",
   "metadata": {},
   "outputs": [],
   "source": [
    "t = outputs.timestamps\n",
    "cpPd = outputs.ClosurePhasePD\n",
    "cpGd = outputs.ClosurePhaseGD\n",
    "\n",
    "baseName = \"S2S1\"\n",
    "iBaseMes = np.argwhere(dm.baselines == baseName)[0][0]\n",
    "iTel1 = np.argwhere(np.array(dm.telescopes) == baseName[:2])[0][0]\n",
    "iTel2 = np.argwhere(np.array(dm.telescopes) == baseName[2:])[0][0]\n",
    "\n",
    "cpName = \"E1W2W1\"\n",
    "iCp = np.argwhere(dm.closures == cpName)[0][0]"
   ]
  },
  {
   "cell_type": "code",
   "execution_count": null,
   "id": "cc5b95f0",
   "metadata": {},
   "outputs": [],
   "source": [
    "iCp = 2\n",
    "%matplotlib qt\n",
    "plt.figure()\n",
    "plt.plot(t,cpPd[:,iCp])\n",
    "plt.show()"
   ]
  },
  {
   "cell_type": "code",
   "execution_count": null,
   "id": "03d582c8",
   "metadata": {},
   "outputs": [],
   "source": []
  },
  {
   "cell_type": "markdown",
   "id": "106e08bb",
   "metadata": {},
   "source": [
    "Closure Phases 3, 6, 8, 9 are not good.\n",
    "\n",
    "E1W2W1\n",
    "S1S2W1\n"
   ]
  },
  {
   "cell_type": "code",
   "execution_count": null,
   "id": "cf9d7cb8",
   "metadata": {},
   "outputs": [],
   "source": []
  }
 ],
 "metadata": {
  "kernelspec": {
   "display_name": "Python 3 (ipykernel)",
   "language": "python",
   "name": "python3"
  },
  "language_info": {
   "codemirror_mode": {
    "name": "ipython",
    "version": 3
   },
   "file_extension": ".py",
   "mimetype": "text/x-python",
   "name": "python",
   "nbconvert_exporter": "python",
   "pygments_lexer": "ipython3",
   "version": "3.10.9"
  }
 },
 "nbformat": 4,
 "nbformat_minor": 5
}
