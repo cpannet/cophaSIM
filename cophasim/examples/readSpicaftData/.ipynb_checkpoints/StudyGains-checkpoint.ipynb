{
 "cells": [
  {
   "cell_type": "code",
   "execution_count": 1,
   "id": "38049aab",
   "metadata": {},
   "outputs": [],
   "source": [
    "import matplotlib.pyplot as plt\n",
    "from astropy.io import fits\n",
    "\n",
    "import numpy as np\n",
    "import os\n",
    "from cophasim import TrueTelemetries as TT\n",
    "from cophasim import tol_colors\n",
    "from cophasim import coh_tools as ct\n",
    "from cophasim import skeleton as sk\n",
    "from cophasim import config,outputs\n",
    "\n",
    "InterfArray = config.Interferometer()\n",
    "InterfArray.get_array(name='chara')\n",
    "\n",
    "\n",
    "cset = tol_colors.tol_cset(\"muted\")\n",
    "\n",
    "%matplotlib qt\n",
    "\n",
    "directory = os.getcwd()+\"/fileExample/\"\n",
    "filename = \"Kpd2_Sat_Jul_15_03h57m32_2023.fits\"\n",
    "filepath = directory+filename"
   ]
  },
  {
   "cell_type": "code",
   "execution_count": 2,
   "id": "6429438b",
   "metadata": {},
   "outputs": [
    {
     "name": "stdout",
     "output_type": "stream",
     "text": [
      "Filename: C:\\Users\\cpannetier\\Documents\\Python_packages\\cophaSIM\\cophasim\\examples\\readSpicaftData/fileExample/Kpd2_Sat_Jul_15_03h57m32_2023.fits\n",
      "No.    Name      Ver    Type      Cards   Dimensions   Format\n",
      "  0  PRIMARY       1 PrimaryHDU       8   ()      \n",
      "  1  Telemetry     1 BinTableHDU    105   9999R x 32C   [1K, 15D, 6D, 15D, 15D, 15D, 15D, 15D, 10D, 10D, 15D, 15D, 15D, 2D, 6D, 6D, 15D, 15D, 15D, 15D, 6D, 15D, 6D, 6D, 6D, 6D, 6D, 2K, 2K, 5D, 1D, 15D]   \n",
      "Load telemetries into outputs module:\n",
      "- KgdKpd\n",
      "- PD\n",
      "- GD\n",
      "- curPdErrBaseMicrons\n",
      "- curGdErrBaseMicrons\n",
      "- PdClosure\n",
      "- GdClosure\n",
      "- curRefPD\n",
      "- curRefGD\n",
      "- Photometry\n",
      "- curPdVar\n",
      "- avPdVar\n",
      "- VisiNorm\n",
      "- pdDlCmdMicrons\n",
      "- gdDlCmdMicrons\n",
      "- curFsPosFromStartMicrons\n",
      "- MetBoxCurrentOffsetMicrons\n",
      "- FrameNb\n",
      "- pdVar\n",
      "- alternatePdVar\n",
      "- averagePdVar\n",
      "- visLambSumMeanSqNorm\n",
      "- visVarDitMean\n",
      "- avVisSpectralSqNorm\n",
      "- curGdPistonMicrons\n",
      "- curRefGDPistonMicrons\n",
      "- curGdErrPistonMicrons\n",
      "- gdWeightsPerBase\n",
      "- gdDlCorMicrons\n",
      "- tBeforeProcessFrameCall\n",
      "- tAfterProcessFrameCall\n",
      "- sPdSingularValues\n",
      "- pdThreshold\n",
      "- gdThresholds\n"
     ]
    }
   ],
   "source": [
    "hduL = fits.open(filepath)\n",
    "\n",
    "\"\"\"\n",
    "General information on the structure of the file\n",
    "\"\"\"\n",
    "hduL.info()\n",
    "\n",
    "TT.ReadFits(filepath)  # Load some quantities into simu"
   ]
  },
  {
   "cell_type": "markdown",
   "id": "29261a3b",
   "metadata": {},
   "source": [
    "# Basic analysis"
   ]
  },
  {
   "cell_type": "code",
   "execution_count": 3,
   "id": "785c702a",
   "metadata": {},
   "outputs": [],
   "source": [
    "sk.display()"
   ]
  },
  {
   "cell_type": "markdown",
   "id": "af84071a",
   "metadata": {},
   "source": [
    "If you want to save the figures in \"figures\" directory:"
   ]
  },
  {
   "cell_type": "code",
   "execution_count": null,
   "id": "57aa94cc",
   "metadata": {},
   "outputs": [],
   "source": [
    "sk.display(savedir='figures/',ext='jpg')"
   ]
  },
  {
   "cell_type": "markdown",
   "id": "01c63f32",
   "metadata": {},
   "source": [
    "## Display only some telescopes"
   ]
  },
  {
   "cell_type": "code",
   "execution_count": 4,
   "id": "cd3af6fb",
   "metadata": {},
   "outputs": [],
   "source": [
    "infos = {\"details\":f\"{filename.split('/')[-1]}\",'telsToDisplay':['S1','S2']}\n",
    "timebonds = (0,-1)\n",
    "\n",
    "outputsData=['SquaredSnrGD','SquaredSnrPD']\n",
    "\n",
    "sk.display('gdPdCmd','gdCmdPis',timebonds=timebonds, outputsData=[], infos=infos)"
   ]
  },
  {
   "cell_type": "markdown",
   "id": "d62dedc1",
   "metadata": {},
   "source": [
    "## Display only some baselines"
   ]
  },
  {
   "cell_type": "code",
   "execution_count": 4,
   "id": "019059b4",
   "metadata": {},
   "outputs": [],
   "source": [
    "infos = {\"details\":f\"{filename.split('/')[-1]}\",'basesToDisplay':['S1S2','W1E2']}\n",
    "timebonds = (0,-1)\n",
    "\n",
    "outputsData=['SquaredSnrGD','SquaredSnrPD']\n",
    "\n",
    "sk.display('gdPdEst','gdHist',timebonds=timebonds, outputsData=[], infos=infos)"
   ]
  }
 ],
 "metadata": {
  "kernelspec": {
   "display_name": "Python 3 (ipykernel)",
   "language": "python",
   "name": "python3"
  },
  "language_info": {
   "codemirror_mode": {
    "name": "ipython",
    "version": 3
   },
   "file_extension": ".py",
   "mimetype": "text/x-python",
   "name": "python",
   "nbconvert_exporter": "python",
   "pygments_lexer": "ipython3",
   "version": "3.10.9"
  }
 },
 "nbformat": 4,
 "nbformat_minor": 5
}
